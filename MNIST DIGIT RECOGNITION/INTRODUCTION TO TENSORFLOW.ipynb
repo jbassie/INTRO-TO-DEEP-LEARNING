{
 "cells": [
  {
   "cell_type": "code",
   "execution_count": 128,
   "id": "40976c04",
   "metadata": {},
   "outputs": [
    {
     "data": {
      "text/plain": [
       "'2.3.0'"
      ]
     },
     "execution_count": 128,
     "metadata": {},
     "output_type": "execute_result"
    }
   ],
   "source": [
    "import tensorflow as tf\n",
    "tf.__version__"
   ]
  },
  {
   "cell_type": "markdown",
   "id": "b32b3ce9",
   "metadata": {},
   "source": [
    "# Creating Tensors\n",
    "1. List \n",
    "2. Array(numpy)  \n",
    "3. TensorFlow"
   ]
  },
  {
   "cell_type": "code",
   "execution_count": 129,
   "id": "2fc1eddd",
   "metadata": {},
   "outputs": [
    {
     "data": {
      "text/plain": [
       "list"
      ]
     },
     "execution_count": 129,
     "metadata": {},
     "output_type": "execute_result"
    }
   ],
   "source": [
    "my_list = [1,2,3,4,5]\n",
    "type(my_list)"
   ]
  },
  {
   "cell_type": "code",
   "execution_count": 130,
   "id": "d2477f23",
   "metadata": {},
   "outputs": [],
   "source": [
    "# Converting Data Type to Tensor\n",
    "tf_list = tf.convert_to_tensor(my_list,dtype = tf.float32)"
   ]
  },
  {
   "cell_type": "code",
   "execution_count": 131,
   "id": "f011b33d",
   "metadata": {},
   "outputs": [
    {
     "data": {
      "text/plain": [
       "<tf.Tensor: shape=(5,), dtype=float32, numpy=array([1., 2., 3., 4., 5.], dtype=float32)>"
      ]
     },
     "execution_count": 131,
     "metadata": {},
     "output_type": "execute_result"
    }
   ],
   "source": [
    "tf_list"
   ]
  },
  {
   "cell_type": "code",
   "execution_count": 132,
   "id": "ac6f90e4",
   "metadata": {},
   "outputs": [
    {
     "data": {
      "text/plain": [
       "tensorflow.python.framework.ops.EagerTensor"
      ]
     },
     "execution_count": 132,
     "metadata": {},
     "output_type": "execute_result"
    }
   ],
   "source": [
    "type(tf_list)"
   ]
  },
  {
   "cell_type": "markdown",
   "id": "aefe563c",
   "metadata": {},
   "source": [
    "#### Creating a multi-dimensional list"
   ]
  },
  {
   "cell_type": "code",
   "execution_count": 133,
   "id": "a1a1fa94",
   "metadata": {},
   "outputs": [
    {
     "data": {
      "text/plain": [
       "[[1, 2, 3, 4, 5]]"
      ]
     },
     "execution_count": 133,
     "metadata": {},
     "output_type": "execute_result"
    }
   ],
   "source": [
    "my_list = [[1,2,3,4,5]]\n",
    "my_list"
   ]
  },
  {
   "cell_type": "code",
   "execution_count": 134,
   "id": "3b3278e4",
   "metadata": {},
   "outputs": [],
   "source": [
    "tf_list1 = tf.convert_to_tensor(my_list, dtype = tf.float32)"
   ]
  },
  {
   "cell_type": "code",
   "execution_count": 135,
   "id": "88ca1c6f",
   "metadata": {},
   "outputs": [
    {
     "name": "stdout",
     "output_type": "stream",
     "text": [
      "tf.Tensor([1. 2. 3. 4. 5.], shape=(5,), dtype=float32)\n"
     ]
    }
   ],
   "source": [
    "print(tf_list)"
   ]
  },
  {
   "cell_type": "code",
   "execution_count": 136,
   "id": "afa10c08",
   "metadata": {},
   "outputs": [
    {
     "name": "stdout",
     "output_type": "stream",
     "text": [
      "tf.Tensor([[1. 2. 3. 4. 5.]], shape=(1, 5), dtype=float32)\n"
     ]
    }
   ],
   "source": [
    "print(tf_list1)"
   ]
  },
  {
   "cell_type": "code",
   "execution_count": 137,
   "id": "17395972",
   "metadata": {},
   "outputs": [],
   "source": [
    "my_list_col = [[1], [2], [3], [4], [5]]\n",
    "tf_list2  = tf.convert_to_tensor(my_list_col, dtype = tf.float32)"
   ]
  },
  {
   "cell_type": "code",
   "execution_count": 138,
   "id": "04231821",
   "metadata": {},
   "outputs": [
    {
     "name": "stdout",
     "output_type": "stream",
     "text": [
      "tf.Tensor(\n",
      "[[1.]\n",
      " [2.]\n",
      " [3.]\n",
      " [4.]\n",
      " [5.]], shape=(5, 1), dtype=float32)\n"
     ]
    }
   ],
   "source": [
    "print(tf_list2)"
   ]
  },
  {
   "cell_type": "markdown",
   "id": "52e06dcd",
   "metadata": {},
   "source": [
    "##### 2.  Converting Numpy Arrays to Tensor"
   ]
  },
  {
   "cell_type": "code",
   "execution_count": 139,
   "id": "f17e678b",
   "metadata": {},
   "outputs": [],
   "source": [
    "import numpy as np"
   ]
  },
  {
   "cell_type": "code",
   "execution_count": 140,
   "id": "c8f82053",
   "metadata": {},
   "outputs": [
    {
     "data": {
      "text/plain": [
       "array([1, 2, 3, 4, 5])"
      ]
     },
     "execution_count": 140,
     "metadata": {},
     "output_type": "execute_result"
    }
   ],
   "source": [
    "arr = np.array([1,2,3,4,5])\n",
    "arr"
   ]
  },
  {
   "cell_type": "code",
   "execution_count": 141,
   "id": "dcfea6a2",
   "metadata": {},
   "outputs": [
    {
     "name": "stdout",
     "output_type": "stream",
     "text": [
      "tf.Tensor([1. 2. 3. 4. 5.], shape=(5,), dtype=float32)\n"
     ]
    }
   ],
   "source": [
    "tf_arr = tf.convert_to_tensor(arr, dtype =tf.float32)\n",
    "print(tf_arr)"
   ]
  },
  {
   "cell_type": "markdown",
   "id": "9fe534e2",
   "metadata": {},
   "source": [
    "##### Creating a multi-dimensional array"
   ]
  },
  {
   "cell_type": "code",
   "execution_count": 142,
   "id": "6d04e6cc",
   "metadata": {},
   "outputs": [
    {
     "data": {
      "text/plain": [
       "array([[1, 2],\n",
       "       [3, 4]])"
      ]
     },
     "execution_count": 142,
     "metadata": {},
     "output_type": "execute_result"
    }
   ],
   "source": [
    "# 2 x 2\n",
    "arr1 = np.array([[1,2], [3,4]])\n",
    "arr1"
   ]
  },
  {
   "cell_type": "code",
   "execution_count": 143,
   "id": "37e5b615",
   "metadata": {},
   "outputs": [
    {
     "data": {
      "text/plain": [
       "numpy.ndarray"
      ]
     },
     "execution_count": 143,
     "metadata": {},
     "output_type": "execute_result"
    }
   ],
   "source": [
    "type(arr1)"
   ]
  },
  {
   "cell_type": "code",
   "execution_count": 144,
   "id": "71fae1d1",
   "metadata": {},
   "outputs": [],
   "source": [
    "tf_arr1 = tf.convert_to_tensor(arr1, dtype =tf.int64)"
   ]
  },
  {
   "cell_type": "code",
   "execution_count": 145,
   "id": "e29f332c",
   "metadata": {},
   "outputs": [
    {
     "data": {
      "text/plain": [
       "tensorflow.python.framework.ops.EagerTensor"
      ]
     },
     "execution_count": 145,
     "metadata": {},
     "output_type": "execute_result"
    }
   ],
   "source": [
    "type(tf_arr1)"
   ]
  },
  {
   "cell_type": "code",
   "execution_count": 146,
   "id": "f7c4bb9e",
   "metadata": {},
   "outputs": [
    {
     "name": "stdout",
     "output_type": "stream",
     "text": [
      "tf.Tensor(\n",
      "[[1 2]\n",
      " [3 4]], shape=(2, 2), dtype=int64)\n"
     ]
    }
   ],
   "source": [
    "print(tf_arr1)"
   ]
  },
  {
   "cell_type": "markdown",
   "id": "b3e3c220",
   "metadata": {},
   "source": [
    "##### 3. Constants"
   ]
  },
  {
   "cell_type": "code",
   "execution_count": 147,
   "id": "4a228725",
   "metadata": {},
   "outputs": [
    {
     "name": "stdout",
     "output_type": "stream",
     "text": [
      "tf.Tensor([1. 2. 3. 4. 5.], shape=(5,), dtype=float32)\n"
     ]
    }
   ],
   "source": [
    "tf_const= tf.constant([1,2,3,4,5], dtype = tf.float32)\n",
    "print(tf_const)"
   ]
  },
  {
   "cell_type": "code",
   "execution_count": 148,
   "id": "279b453d",
   "metadata": {},
   "outputs": [
    {
     "data": {
      "text/plain": [
       "<tf.Tensor: shape=(2, 2), dtype=int32, numpy=\n",
       "array([[1, 2],\n",
       "       [3, 4]])>"
      ]
     },
     "execution_count": 148,
     "metadata": {},
     "output_type": "execute_result"
    }
   ],
   "source": [
    "tf_const1 = tf.constant(np.array([[1,2],[3,4]]))\n",
    "tf_const1"
   ]
  },
  {
   "cell_type": "markdown",
   "id": "1aa6cce9",
   "metadata": {},
   "source": [
    "# TENSORFLOW OPERATORS"
   ]
  },
  {
   "cell_type": "code",
   "execution_count": 149,
   "id": "ffabf366",
   "metadata": {},
   "outputs": [
    {
     "name": "stdout",
     "output_type": "stream",
     "text": [
      "tf.Tensor([[1 2 3]], shape=(1, 3), dtype=int32)\n",
      "tf.Tensor([[4 5 6]], shape=(1, 3), dtype=int32)\n"
     ]
    }
   ],
   "source": [
    "#Addition\n",
    "\n",
    "x = tf.constant([[1,2,3]])\n",
    "y = tf.constant([[4,5,6]])\n",
    "print(x)\n",
    "print(y)"
   ]
  },
  {
   "cell_type": "code",
   "execution_count": 150,
   "id": "41efd60a",
   "metadata": {},
   "outputs": [
    {
     "data": {
      "text/plain": [
       "<tf.Tensor: shape=(1, 3), dtype=int32, numpy=array([[5, 7, 9]])>"
      ]
     },
     "execution_count": 150,
     "metadata": {},
     "output_type": "execute_result"
    }
   ],
   "source": [
    "z = tf.add(x,y)\n",
    "z"
   ]
  },
  {
   "cell_type": "code",
   "execution_count": 151,
   "id": "6a21feed",
   "metadata": {},
   "outputs": [],
   "source": [
    "x1 = tf.constant(2)\n",
    "x2 = tf.constant(3)"
   ]
  },
  {
   "cell_type": "code",
   "execution_count": 152,
   "id": "fb379c84",
   "metadata": {},
   "outputs": [
    {
     "name": "stdout",
     "output_type": "stream",
     "text": [
      "tf.Tensor(-1, shape=(), dtype=int32)\n",
      "tf.Tensor(6, shape=(), dtype=int32)\n",
      "tf.Tensor(8, shape=(), dtype=int32)\n"
     ]
    }
   ],
   "source": [
    "#Subtraction, Multiplication, Power\n",
    "print(tf.subtract(x1,x2))\n",
    "print(tf.multiply(x1,x2))\n",
    "print(tf.pow(x1,x2))"
   ]
  },
  {
   "cell_type": "code",
   "execution_count": 153,
   "id": "467a1735",
   "metadata": {},
   "outputs": [],
   "source": [
    "div = tf.divide(x1,x2)"
   ]
  },
  {
   "cell_type": "code",
   "execution_count": 154,
   "id": "1f9383f0",
   "metadata": {},
   "outputs": [
    {
     "name": "stdout",
     "output_type": "stream",
     "text": [
      "tf.Tensor(0.6666666666666666, shape=(), dtype=float64)\n"
     ]
    }
   ],
   "source": [
    "print(div)"
   ]
  },
  {
   "cell_type": "markdown",
   "id": "11a62eb4",
   "metadata": {},
   "source": [
    "# DataFlow Graphs"
   ]
  },
  {
   "cell_type": "markdown",
   "id": "d16bebcd",
   "metadata": {},
   "source": [
    "###### Steps in creating a TensorFlow Graph\n",
    "1. create a tensorflow Function tf.function\n",
    "2. Create a Writer \n",
    "3. add trace on function\n",
    "4. Export the Graph"
   ]
  },
  {
   "cell_type": "code",
   "execution_count": 155,
   "id": "035fb87c",
   "metadata": {},
   "outputs": [],
   "source": [
    "#1. Creating a Tensorflow function\n",
    "def my_func(a,b):\n",
    "    \n",
    "    # Creating Constants(input nodes)\n",
    "    x = tf.constant(a, dtype = tf.float32)  # Conversion into tensors\n",
    "    y = tf.constant(b, dtype = tf.float32)  #Conversion into tensors\n",
    "\n",
    "    # Operation(node)\n",
    "    z = tf.add(x,y)\n",
    "    return z\n"
   ]
  },
  {
   "cell_type": "code",
   "execution_count": 156,
   "id": "77b29711",
   "metadata": {},
   "outputs": [],
   "source": [
    "# Creating logdir\n",
    "logdir = 'First_graph'\n",
    "writer = tf.summary.create_file_writer(logdir = logdir)\n",
    "# trace on function\n",
    "tf.summary.trace_on(graph = True, profiler = True)\n",
    "c = my_func(4,5) # Execute only once\n",
    "\n",
    "with writer.as_default():\n",
    "    tf.summary.trace_export('addition', step =0, profiler_outdir = logdir)"
   ]
  },
  {
   "cell_type": "code",
   "execution_count": 157,
   "id": "f475a695",
   "metadata": {},
   "outputs": [
    {
     "name": "stdout",
     "output_type": "stream",
     "text": [
      " Volume in drive C has no label.\n",
      " Volume Serial Number is 3A6F-D5E8\n",
      "\n",
      " Directory of C:\\Users\\hp\\Desktop\\MACHINE LEARNING\n",
      "\n",
      "01/12/2022  11:16 AM    <DIR>          .\n",
      "01/12/2022  11:16 AM    <DIR>          ..\n",
      "01/10/2022  02:53 PM    <DIR>          .ipynb_checkpoints\n",
      "01/10/2022  02:48 PM            88,096 Airports Analysis.ipynb\n",
      "12/19/2021  02:35 PM        16,415,525 all_data\n",
      "12/19/2021  02:56 PM        16,697,881 all_data.csv\n",
      "12/23/2021  07:13 PM           621,113 BASE TRAVELLING COST PREDICTION .ipynb\n",
      "12/23/2021  07:28 PM           629,656 BASE TRAVELLING COST PREDICTION -Copy1.ipynb\n",
      "01/04/2022  09:05 PM           555,303 BASE TRAVELLING COST PREDICTION -Copy2.ipynb\n",
      "11/15/2021  06:57 AM            78,846 Clustering Data.csv\n",
      "11/18/2021  08:00 PM           186,413 Clustering Project.ipynb\n",
      "12/01/2021  11:26 AM    <DIR>          DATA FOR ZINDI COMPETITION\n",
      "01/12/2022  11:16 AM    <DIR>          First_graph\n",
      "12/02/2021  06:02 PM                 0 geckodriver.log\n",
      "11/21/2021  09:01 AM            74,917 IMAGE RECOGNITION 1 USING MNIST DATASET.ipynb\n",
      "01/12/2022  11:15 AM            20,935 INTRODUCTION TO TENSORFLOW.ipynb\n",
      "11/15/2021  06:49 AM           114,523 Kmeans Algorithm.ipynb\n",
      "11/29/2021  09:08 AM            62,910 PROBLEM.ipynb\n",
      "01/10/2022  02:49 PM           296,226 REAL WORLD DATA ANALYSIS WITH SALES DATA.ipynb\n",
      "12/19/2021  02:34 PM    <DIR>          sales data\n",
      "01/10/2022  02:48 PM            88,543 SAMPLE RECOMMENDATION SYSTEM.ipynb\n",
      "12/19/2021  10:46 AM    <DIR>          scipy-2019-pandas-master\n",
      "11/29/2021  02:34 PM           462,216 scipy-2019-pandas-master.zip\n",
      "11/17/2021  03:58 PM             6,968 Spam Classifier.ipynb\n",
      "12/20/2021  08:01 PM            30,643 submission_new.csv"
     ]
    }
   ],
   "source": [
    "ls"
   ]
  },
  {
   "cell_type": "code",
   "execution_count": 158,
   "id": "7294a961",
   "metadata": {},
   "outputs": [
    {
     "name": "stdout",
     "output_type": "stream",
     "text": [
      "\n",
      "12/20/2021  08:04 PM            30,643 submission_new2.csv\n",
      "12/20/2021  08:06 PM            30,645 submission_new3.csv\n",
      "12/20/2021  08:12 PM            23,749 submission_new4.csv\n",
      "12/06/2021  02:01 PM            29,120 TRAVELLING COST PREDICTION -Copy1.ipynb\n",
      "12/20/2021  08:22 PM         4,044,822 TRAVELLING COST PREDICTION -Copy2.ipynb\n",
      "11/29/2021  04:06 PM            55,725 UNDERSTANDING PANDAS.ipynb\n",
      "11/18/2021  01:46 PM           174,656 Untitled.ipynb\n",
      "12/02/2021  07:41 PM             6,771 Untitled1.ipynb\n",
      "12/22/2021  05:07 PM                72 Untitled2.ipynb\n",
      "12/23/2021  07:12 PM            98,423 Untitled3.ipynb\n",
      "01/10/2022  02:49 PM             5,381 Untitled4.ipynb\n",
      "              29 File(s)     40,930,721 bytes\n",
      "               7 Dir(s)  319,672,872,960 bytes free\n",
      " Volume in drive C has no label.\n",
      " Volume Serial Number is 3A6F-D5E8\n",
      "\n",
      " Directory of C:\\Users\\hp\\Desktop\\MACHINE LEARNING\\First_graph\n",
      "\n",
      "01/12/2022  11:16 AM    <DIR>          .\n",
      "01/12/2022  11:16 AM    <DIR>          ..\n",
      "01/12/2022  11:16 AM               114 events.out.tfevents.1641982609.LOCKE.11808.274.v2\n",
      "01/12/2022  11:16 AM                40 events.out.tfevents.1641982609.LOCKE.profile-empty\n",
      "01/12/2022  11:16 AM    <DIR>          plugins\n",
      "               2 File(s)            154 bytes\n",
      "               3 Dir(s)  319,672,872,960 bytes free\n"
     ]
    }
   ],
   "source": [
    "ls First_graph"
   ]
  },
  {
   "cell_type": "code",
   "execution_count": 159,
   "id": "90ea7ac3",
   "metadata": {},
   "outputs": [
    {
     "name": "stdout",
     "output_type": "stream",
     "text": [
      "The tensorboard extension is already loaded. To reload it, use:\n",
      "  %reload_ext tensorboard\n"
     ]
    }
   ],
   "source": [
    "%load_ext tensorboard"
   ]
  },
  {
   "cell_type": "code",
   "execution_count": 160,
   "id": "ccd814e8",
   "metadata": {},
   "outputs": [
    {
     "data": {
      "text/plain": [
       "Reusing TensorBoard on port 6006 (pid 3584), started 1 day, 19:24:15 ago. (Use '!kill 3584' to kill it.)"
      ]
     },
     "metadata": {},
     "output_type": "display_data"
    },
    {
     "data": {
      "text/html": [
       "\n",
       "      <iframe id=\"tensorboard-frame-4e85cb17d03857d8\" width=\"100%\" height=\"800\" frameborder=\"0\">\n",
       "      </iframe>\n",
       "      <script>\n",
       "        (function() {\n",
       "          const frame = document.getElementById(\"tensorboard-frame-4e85cb17d03857d8\");\n",
       "          const url = new URL(\"/\", window.location);\n",
       "          const port = 6006;\n",
       "          if (port) {\n",
       "            url.port = port;\n",
       "          }\n",
       "          frame.src = url;\n",
       "        })();\n",
       "      </script>\n",
       "    "
      ],
      "text/plain": [
       "<IPython.core.display.HTML object>"
      ]
     },
     "metadata": {},
     "output_type": "display_data"
    }
   ],
   "source": [
    "%tensorboard --logdir First_graph/"
   ]
  },
  {
   "cell_type": "markdown",
   "id": "e389057d",
   "metadata": {},
   "source": [
    "#### Graph 2"
   ]
  },
  {
   "cell_type": "code",
   "execution_count": 161,
   "id": "0faf61f4",
   "metadata": {},
   "outputs": [],
   "source": [
    "def second_graph(a,b,c):\n",
    "    # Create the imput layer\n",
    "    x1 = tf.constant(a, dtype= tf.float32)\n",
    "    x2 = tf.constant(b, dtype = tf.float32)\n",
    "    x3 = tf.constant(c, dtype = tf.float32)\n",
    "\n",
    "    #Layer 1\n",
    "    layer_1_add = tf.add(x1, x2)\n",
    "    layer_1_sub=  tf.subtract(x1, x3)\n",
    "\n",
    "    #layer 2\n",
    "    layer_2_sub = tf.negative(layer_1_add)\n",
    "    layer_2_mult = tf.multiply(layer_1_add, x2)\n",
    "    layer_2_add = tf.add(layer_1_add, x3)\n",
    "\n",
    "    #Output Layer\n",
    "    output = tf.add(layer_2_add, tf.add(layer_1_sub, (layer_1_sub, tf.add(layer_2_sub, layer_2_mult))))\n",
    "    return output"
   ]
  },
  {
   "cell_type": "code",
   "execution_count": 163,
   "id": "2e78709f",
   "metadata": {},
   "outputs": [
    {
     "name": "stdout",
     "output_type": "stream",
     "text": [
      "WARNING:tensorflow:Trace already enabled\n"
     ]
    }
   ],
   "source": [
    "#logdir\n",
    "writer = tf.summary.create_file_writer('./graphs')\n",
    "#trace on\n",
    "tf.summary.trace_on(profiler  =True, graph= True)\n",
    "out = second_graph(4,5,6) #exceute only once\n",
    "\n",
    "with writer.as_default():\n",
    "    tf.summary.trace_export(name = 'Second Graph', step =0, profiler_outdir='./graphs')\n",
    "\n"
   ]
  },
  {
   "cell_type": "code",
   "execution_count": 164,
   "id": "95acd145",
   "metadata": {},
   "outputs": [],
   "source": [
    "%reload_ext tensorboard"
   ]
  },
  {
   "cell_type": "code",
   "execution_count": 165,
   "id": "b644dbe7",
   "metadata": {},
   "outputs": [
    {
     "data": {
      "text/plain": [
       "ERROR: Timed out waiting for TensorBoard to start. It may still be running as pid 14104."
      ]
     },
     "metadata": {},
     "output_type": "display_data"
    }
   ],
   "source": [
    "%tensorboard --logdir ./graphs"
   ]
  },
  {
   "cell_type": "code",
   "execution_count": null,
   "id": "52ce1402",
   "metadata": {},
   "outputs": [],
   "source": []
  }
 ],
 "metadata": {
  "kernelspec": {
   "display_name": "Python 3 (ipykernel)",
   "language": "python",
   "name": "python3"
  },
  "language_info": {
   "codemirror_mode": {
    "name": "ipython",
    "version": 3
   },
   "file_extension": ".py",
   "mimetype": "text/x-python",
   "name": "python",
   "nbconvert_exporter": "python",
   "pygments_lexer": "ipython3",
   "version": "3.8.11"
  }
 },
 "nbformat": 4,
 "nbformat_minor": 5
}
